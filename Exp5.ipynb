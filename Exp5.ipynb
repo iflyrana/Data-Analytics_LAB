{
 "cells": [
  {
   "cell_type": "markdown",
   "id": "1db78b4c",
   "metadata": {},
   "source": [
    "**Roll No.:**\n",
    "\n",
    "**Name:**\n",
    "\n",
    "**Class:**\n",
    "\n",
    "**Batch:**\n",
    "\n",
    "**Date of Experiment:**"
   ]
  },
  {
   "cell_type": "markdown",
   "id": "5c86495f",
   "metadata": {},
   "source": [
    "<center> <h1> Exp-5: Apply data pre-processing tasks: to deal with the missing data, to format\n",
    "the data in correct format and to standardize the data for a given dataset.\n",
    "Demonstrate the same using Pandas and NumPy in Python.</h1> </center>\n",
    "\n",
    "<h2> Data Pre-processing </h2>\n",
    "\n",
    "> - The process of converting or mapping data from the initial \"raw\" form into another format, to make it ready for further analysis.\n",
    "> - It is also known as Data Cleaning and Data Wrangling.\n",
    "\n",
    "<h2> Objectives: </h2>\n",
    "\n",
    "> 1. Identify, Evaluate and Count missing data\n",
    "> 2. Deal with missing data \n",
    "> 3. Correct the Data Format and \n",
    "> 4. Standardize the Data"
   ]
  },
  {
   "cell_type": "markdown",
   "id": "ed66d3db",
   "metadata": {},
   "source": [
    "<h2> Important Shortcut Keys </h2>\n",
    "\n",
    "> - A -> To **create** cell **above**\n",
    "> - B -> To **create** Cell **below**\n",
    "> - D D -> For **deleting** the cell\n",
    "> - M -> To **markdown** the Cell\n",
    "> - Y -> For **code** the cell\n",
    "> - Z -> To **undo** the deleted cell"
   ]
  },
  {
   "cell_type": "markdown",
   "id": "2f4cdec9",
   "metadata": {},
   "source": [
    "<h2> 1. Reading the dataset from the URL and adding the related headers </h2>"
   ]
  },
  {
   "cell_type": "markdown",
   "id": "8c240e66",
   "metadata": {},
   "source": [
    "<h3> 1.1 Import Libraries </h3>\n",
    "\n",
    "You can find the \"Automobile Dataset\" from the following link: <a href=\"https://archive.ics.uci.edu/ml/machine-learning-databases/autos/imports-85.data?utm_medium=Exinfluencer&utm_source=Exinfluencer&utm_content=000026UJ&utm_term=10006555&utm_id=NA-SkillsNetwork-Channel-SkillsNetworkCoursesIBMDeveloperSkillsNetworkDA0101ENSkillsNetwork20235326-2021-01-01\">https://archive.ics.uci.edu/ml/machine-learning-databases/autos/imports-85.data</a>. \n"
   ]
  },
  {
   "cell_type": "code",
   "execution_count": null,
   "id": "1ff0f83b",
   "metadata": {},
   "outputs": [],
   "source": [
    "# Import the libraries pandas and matplotlib\n",
    "import pandas as pd\n",
    "import numpy as np\n",
    "import matplotlib.pylab as plt"
   ]
  },
  {
   "cell_type": "markdown",
   "id": "2fa12867",
   "metadata": {},
   "source": [
    "<h3> 1.2 Import Data </h3> "
   ]
  },
  {
   "cell_type": "markdown",
   "id": "aecaa44c",
   "metadata": {},
   "source": [
    "First, we assign the URL of the dataset to \"filename\".\n",
    "\n",
    "Note: This file does not have column headers, which we need to assign."
   ]
  },
  {
   "cell_type": "code",
   "execution_count": null,
   "id": "150af8c8",
   "metadata": {},
   "outputs": [],
   "source": [
    "filename = 'https://archive.ics.uci.edu/ml/machine-learning-databases/autos/imports-85.data'"
   ]
  },
  {
   "cell_type": "markdown",
   "id": "ab7a13c3",
   "metadata": {},
   "source": [
    "Then, we create a Python list <b>headers</b> containing name of headers."
   ]
  },
  {
   "cell_type": "code",
   "execution_count": null,
   "id": "5a1ff756",
   "metadata": {},
   "outputs": [],
   "source": [
    "headers = [\"symboling\",\"normalized-losses\",\"make\",\"fuel-type\",\"aspiration\", \"num-of-doors\",\"body-style\",\n",
    "         \"drive-wheels\",\"engine-location\",\"wheel-base\", \"length\",\"width\",\"height\",\"curb-weight\",\"engine-type\",\n",
    "         \"num-of-cylinders\", \"engine-size\",\"fuel-system\",\"bore\",\"stroke\",\"compression-ratio\",\"horsepower\",\n",
    "         \"peak-rpm\",\"city-mpg\",\"highway-mpg\",\"price\"]"
   ]
  },
  {
   "cell_type": "markdown",
   "id": "3a4e465a",
   "metadata": {},
   "source": [
    "Use the Pandas method <b>read_csv()</b> to load the data from the web address. Set the parameter  \"names\" equal to the Python list \"headers\"."
   ]
  },
  {
   "cell_type": "code",
   "execution_count": null,
   "id": "3bdb198c",
   "metadata": {},
   "outputs": [],
   "source": [
    "df = pd.read_csv(filename, names = headers)"
   ]
  },
  {
   "cell_type": "markdown",
   "id": "7d2021f4",
   "metadata": {},
   "source": [
    "Use the method <b>head()</b> to display the first five rows of the dataframe."
   ]
  },
  {
   "cell_type": "code",
   "execution_count": null,
   "id": "c7661aa1",
   "metadata": {},
   "outputs": [],
   "source": [
    "df.columns"
   ]
  },
  {
   "cell_type": "code",
   "execution_count": null,
   "id": "e9ec3232",
   "metadata": {},
   "outputs": [],
   "source": [
    "# To see what the data set looks like, we'll use the head() method.\n",
    "df.head()"
   ]
  },
  {
   "cell_type": "markdown",
   "id": "46ba3c25",
   "metadata": {},
   "source": [
    "<h2> 2. Identify, Evaluate and Count missing data </h2>\n",
    "<p> As we can see, several question marks appeared in the dataframe; those are missing values which may hinder our further analysis.</p>\n",
    "\n",
    "<h3> Let's define missing values </h3>\n",
    "\n",
    "- Missing values occur when no data value is stored for a variable(feature) in an observation.\n",
    "- Could be represented as `?`, `NA`, `0` or just a blank cell.\n"
   ]
  },
  {
   "cell_type": "markdown",
   "id": "aafee19b",
   "metadata": {},
   "source": [
    "<h3> 2.1 Identify and convert missing data to \"NaN\" </h3>\n",
    "\n",
    "#### Convert \"?\" to NaN ####\n",
    "In the car dataset, missing data comes with the question mark \"?\".\n",
    "We replace \"?\" with NaN (Not a Number), <b>Python's default missing value marker for reasons of computational speed and convenience</b>. Here we use the function: \n",
    "<pre>dataframe.replace(A, B, inplace = True) to replace A by B. </pre>"
   ]
  },
  {
   "cell_type": "code",
   "execution_count": null,
   "id": "ff36c9a9",
   "metadata": {},
   "outputs": [],
   "source": [
    "# replace \"?\" to NaN\n",
    "\n",
    "df.replace(\"?\", np.nan, inplace = True)  # Question: explian the meaning of \"inplace = True\"\n",
    "df.head(5)"
   ]
  },
  {
   "cell_type": "markdown",
   "id": "b43695e4",
   "metadata": {},
   "source": [
    "<h3> 2.2 Evaluating for missing data</h3>\n",
    "\n",
    "The missing values (NaN) are converted by default. We use the following functions to identify these missing values. There are two methods to detect missing data:\n",
    "\n",
    "<ol>\n",
    "    <li><b>.isnull()</b></li>\n",
    "    <li><b>.notnull()</b></li>\n",
    "  </ol>\n",
    "\n",
    "The output is a boolean value indicating whether the value that is passed into the argument is in fact missing data.\n"
   ]
  },
  {
   "cell_type": "code",
   "execution_count": null,
   "id": "b109c3a2",
   "metadata": {
    "scrolled": true
   },
   "outputs": [],
   "source": [
    "missing_data = df.isnull()\n",
    "missing_data.head(5)"
   ]
  },
  {
   "cell_type": "markdown",
   "id": "aeda3141",
   "metadata": {},
   "source": [
    "\"True\" means the value is a missing value while \"False\" means the value is not a missing value."
   ]
  },
  {
   "cell_type": "markdown",
   "id": "a766263c",
   "metadata": {},
   "source": [
    "<h3> 2.3 Count missing values in each column</h3>\n",
    "\n",
    "Using a for loop in Python, we can quickly figure out the number of missing values in each column. As mentioned above, \"True\" represents a missing value and \"False\" means the value is present in the dataset.  In the body of the for loop the method \".value_counts()\" counts the number of \"True\" values. \n"
   ]
  },
  {
   "cell_type": "code",
   "execution_count": null,
   "id": "01f7e373",
   "metadata": {
    "scrolled": true
   },
   "outputs": [],
   "source": [
    "for column in missing_data.columns.values.tolist():\n",
    "    print(column)\n",
    "    print (missing_data[column].value_counts())\n",
    "    print(\"\")  "
   ]
  },
  {
   "cell_type": "markdown",
   "id": "258380d7",
   "metadata": {},
   "source": [
    "Based on the summary above, each column has 205 rows of data and seven of the columns containing missing data:\n",
    "\n",
    "<ol>\n",
    "    <li>\"normalized-losses\": 41 missing data</li>\n",
    "    <li>\"num-of-doors\": 2 missing data</li>\n",
    "    <li>\"bore\": 4 missing data</li>\n",
    "    <li>\"stroke\" : 4 missing data</li>\n",
    "    <li>\"horsepower\": 2 missing data</li>\n",
    "    <li>\"peak-rpm\": 2 missing data</li>\n",
    "    <li>\"price\": 4 missing data</li>\n",
    "</ol>\n"
   ]
  },
  {
   "cell_type": "markdown",
   "id": "fcf5dd97",
   "metadata": {},
   "source": [
    "<h2> 3. Deal with missing data </h2>\n",
    "\n",
    "- **Check with the data collection source**\n",
    "- **Replace the missing values**\n",
    "    - replace it with an average (of similar data points)\n",
    "    - replace it by frequency\n",
    "    - replace it based on other functions<br>\n",
    "- **Drop the missing values**\n",
    "    - drop the variable (column)\n",
    "    - drop the data entry (row)\n",
    "- **Leave it as missing data**"
   ]
  },
  {
   "cell_type": "markdown",
   "id": "356bbf47",
   "metadata": {},
   "source": [
    "<h3> 3.1 Replace the missing data </h3>\n",
    "\n",
    "Use `dataframe.replace(missing_data, new_data)`"
   ]
  },
  {
   "cell_type": "markdown",
   "id": "8d6aa112",
   "metadata": {},
   "source": [
    "<h4> 3.1.1 Replace by mean: </h4>\n",
    "\n",
    "<ul>\n",
    "    <li>\"normalized-losses\": 41 missing data, replace them with mean</li>\n",
    "    <li>\"stroke\": 4 missing data, replace them with mean</li>\n",
    "    <li>\"bore\": 4 missing data, replace them with mean</li>\n",
    "    <li>\"horsepower\": 2 missing data, replace them with mean</li>\n",
    "    <li>\"peak-rpm\": 2 missing data, replace them with mean</li>\n",
    "</ul>\n"
   ]
  },
  {
   "cell_type": "markdown",
   "id": "ce9fd35f",
   "metadata": {},
   "source": [
    "<h5> Calculate the mean value for the \"normalized-losses\" column </h5>"
   ]
  },
  {
   "cell_type": "code",
   "execution_count": null,
   "id": "2b43a39b",
   "metadata": {},
   "outputs": [],
   "source": [
    "avg_norm_loss = df[\"normalized-losses\"].astype(\"float\").mean(axis=0)\n",
    "print(\"Average of normalized-losses:\", avg_norm_loss)"
   ]
  },
  {
   "cell_type": "markdown",
   "id": "53f005ee",
   "metadata": {},
   "source": [
    "<h5> Replace \"NaN\" with mean value in \"normalized-losses\" column</h5>"
   ]
  },
  {
   "cell_type": "code",
   "execution_count": null,
   "id": "d4e64d77",
   "metadata": {},
   "outputs": [],
   "source": [
    "df[\"normalized-losses\"].replace(np.nan, avg_norm_loss, inplace=True)"
   ]
  },
  {
   "cell_type": "markdown",
   "id": "65782214",
   "metadata": {},
   "source": [
    "<h5>Calculate the mean value for the \"bore\" column</h5>"
   ]
  },
  {
   "cell_type": "code",
   "execution_count": null,
   "id": "42dc7c23",
   "metadata": {},
   "outputs": [],
   "source": [
    "avg_bore=df['bore'].astype('float').mean(axis=0)\n",
    "print(\"Average of bore:\", avg_bore)"
   ]
  },
  {
   "cell_type": "markdown",
   "id": "9d9456a2",
   "metadata": {},
   "source": [
    "<h5>Replace \"NaN\" with the mean value in the \"bore\" column</h5>\n"
   ]
  },
  {
   "cell_type": "code",
   "execution_count": null,
   "id": "4d5fd9ad",
   "metadata": {},
   "outputs": [],
   "source": [
    "df[\"bore\"].replace(np.nan, avg_bore, inplace=True)"
   ]
  },
  {
   "cell_type": "markdown",
   "id": "3de3761e",
   "metadata": {},
   "source": [
    "<div class=\"alert alert-danger alertdanger\" style=\"margin-top: 20px\">\n",
    "<h1> Question  #1: </h1>\n",
    "\n",
    "<b>Based on the example above, replace NaN in \"stroke\" column with the mean value.</b>\n",
    "\n",
    "</div>\n"
   ]
  },
  {
   "cell_type": "code",
   "execution_count": null,
   "id": "2874aed1",
   "metadata": {},
   "outputs": [],
   "source": [
    "#Calculate the mean vaule for \"stroke\" column\n",
    "avg_stroke = df[\"stroke\"].astype(\"float\").mean(axis = 0)\n",
    "print(\"Average of stroke:\", avg_stroke)\n",
    "\n",
    "# replace NaN by mean value in \"stroke\" column\n",
    "df[\"stroke\"].replace(np.nan, avg_stroke, inplace = True)"
   ]
  },
  {
   "cell_type": "markdown",
   "id": "fbc7f94f",
   "metadata": {},
   "source": [
    "<details><summary>Click here for the solution</summary>\n",
    "\n",
    "```python\n",
    "#Calculate the mean vaule for \"stroke\" column\n",
    "avg_stroke = df[\"stroke\"].astype(\"float\").mean(axis = 0)\n",
    "print(\"Average of stroke:\", avg_stroke)\n",
    "\n",
    "# replace NaN by mean value in \"stroke\" column\n",
    "df[\"stroke\"].replace(np.nan, avg_stroke, inplace = True)\n",
    "```\n",
    "\n",
    "</details>\n"
   ]
  },
  {
   "cell_type": "markdown",
   "id": "9aa9083c",
   "metadata": {},
   "source": [
    "<h5>Calculate the mean value for the \"horsepower\" column</h5>\n"
   ]
  },
  {
   "cell_type": "code",
   "execution_count": null,
   "id": "8b3befbc",
   "metadata": {},
   "outputs": [],
   "source": [
    "avg_horsepower = df['horsepower'].astype('float').mean(axis=0)\n",
    "print(\"Average horsepower:\", avg_horsepower)"
   ]
  },
  {
   "cell_type": "markdown",
   "id": "90c724de",
   "metadata": {},
   "source": [
    "<h5>Replace \"NaN\" with the mean value in the \"horsepower\" column</h5>\n"
   ]
  },
  {
   "cell_type": "code",
   "execution_count": null,
   "id": "94bd18c6",
   "metadata": {},
   "outputs": [],
   "source": [
    "df['horsepower'].replace(np.nan, avg_horsepower, inplace=True)"
   ]
  },
  {
   "cell_type": "markdown",
   "id": "235802b2",
   "metadata": {},
   "source": [
    "<h5>Calculate the mean value for \"peak-rpm\" column</h5>\n"
   ]
  },
  {
   "cell_type": "code",
   "execution_count": null,
   "id": "b65e98eb",
   "metadata": {},
   "outputs": [],
   "source": [
    "avg_peakrpm=df['peak-rpm'].astype('float').mean(axis=0)\n",
    "print(\"Average peak rpm:\", avg_peakrpm)"
   ]
  },
  {
   "cell_type": "markdown",
   "id": "42586c7b",
   "metadata": {},
   "source": [
    "<h5>Replace \"NaN\" with the mean value in the \"peak-rpm\" column</h5>\n"
   ]
  },
  {
   "cell_type": "code",
   "execution_count": null,
   "id": "c6b61052",
   "metadata": {},
   "outputs": [],
   "source": [
    "df['peak-rpm'].replace(np.nan, avg_peakrpm, inplace=True)"
   ]
  },
  {
   "cell_type": "markdown",
   "id": "c243454a",
   "metadata": {},
   "source": [
    "<h4> 3.1.2 Replace by frequency:</h4>\n",
    "\n",
    "<ul>\n",
    "    <li>\"num-of-doors\": 2 missing data, replace them with \"four\". \n",
    "        <ul>\n",
    "            <li>Reason: 84% sedans is four doors. Since four doors is most frequent, it is most likely to occur</li>\n",
    "        </ul>\n",
    "    </li>\n",
    "</ul>"
   ]
  },
  {
   "cell_type": "markdown",
   "id": "38528703",
   "metadata": {},
   "source": [
    "To see which values are present in a particular column, we can use the \".value_counts()\" method:\n"
   ]
  },
  {
   "cell_type": "code",
   "execution_count": null,
   "id": "b117ec47",
   "metadata": {},
   "outputs": [],
   "source": [
    "df['num-of-doors'].value_counts()"
   ]
  },
  {
   "cell_type": "markdown",
   "id": "ce8f37f5",
   "metadata": {},
   "source": [
    "We can see that four doors are the most common type. We can also use the \".idxmax()\" method to calculate the most common type automatically:\n"
   ]
  },
  {
   "cell_type": "code",
   "execution_count": null,
   "id": "ee4838b3",
   "metadata": {},
   "outputs": [],
   "source": [
    "df['num-of-doors'].value_counts().idxmax()"
   ]
  },
  {
   "cell_type": "markdown",
   "id": "0c23211a",
   "metadata": {},
   "source": [
    "The replacement procedure is very similar to what we have seen previously:\n"
   ]
  },
  {
   "cell_type": "code",
   "execution_count": null,
   "id": "338e81d2",
   "metadata": {},
   "outputs": [],
   "source": [
    "#replace the missing 'num-of-doors' values by the most frequent \n",
    "df[\"num-of-doors\"].replace(np.nan, \"four\", inplace=True)"
   ]
  },
  {
   "cell_type": "markdown",
   "id": "6e7295f0",
   "metadata": {},
   "source": [
    "<h3> 3.2 Drop missing values </h3>\n",
    "\n",
    "- Use `dataframe.dropna()`\n",
    "     - `axis= 0` to drop the entire row\n",
    "     - `axis= 1` to drop the entire column\n",
    "\n",
    "\n",
    "- Whole columns should be dropped only if most entries in the column are empty. In our dataset, none of the columns are empty enough to drop entirely.\n",
    "\n",
    "\n",
    "- <b>Drop the whole row:</b>\n",
    "  <ul>\n",
    "    <li>\"price\": 4 missing data, simply delete the whole row\n",
    "        <ul>\n",
    "            <li>Reason: price is what we want to predict in later experiment. Any data entry without price data cannot be used for prediction; therefore any row now without price data is not useful to us</li>\n",
    "        </ul>\n",
    "    </li>\n",
    "</ul>"
   ]
  },
  {
   "cell_type": "code",
   "execution_count": null,
   "id": "ecd22787",
   "metadata": {},
   "outputs": [],
   "source": [
    "# simply drop whole row with NaN in \"price\" column\n",
    "df.dropna(subset=[\"price\"], axis=0, inplace=True) # equivalent to: df = df.dropna(subset= ['price'], axis= 0)\n",
    "\n",
    "# reset index, because we droped two rows\n",
    "df.reset_index(drop=True, inplace=True)"
   ]
  },
  {
   "cell_type": "code",
   "execution_count": null,
   "id": "2015d415",
   "metadata": {},
   "outputs": [],
   "source": [
    "df"
   ]
  },
  {
   "cell_type": "markdown",
   "id": "5485db96",
   "metadata": {},
   "source": [
    "<b>Good!</b> Now, we have a dataset with no missing values.\n"
   ]
  },
  {
   "cell_type": "markdown",
   "id": "12836363",
   "metadata": {},
   "source": [
    "<h2> 4. Correct the Data Format and Standardize the Data </h2>\n",
    "\n",
    "In this section, we will look at the problem of data with different formats, units and conventions and the pandas methods that help us deal with these issues.\n",
    "\n",
    "> - Data are generally collected from different places and stored in different formats.\n",
    "> - Data formatting and standardization: Bringing (transforming) data into a common standard of expression allow users to make meaningful comparision.\n",
    "> - As a part of data cleaning, formatting ensures the data is consistent and easily understandable.\n",
    "\n",
    "<center>\n",
    "    <img src = \"fig5a.png\" width = \"600\" height = \"300\" >\n",
    "</center>\n",
    "\n",
    "<b> Steps for Data formating and standardization </b>\n",
    "> - Correcting the incorrect data types (Data Formatting)\n",
    "> - Applying calculation to an entire column (Data Standardization)"
   ]
  },
  {
   "cell_type": "markdown",
   "id": "fcd7af3c",
   "metadata": {},
   "source": [
    "<h3> 4.1 Correct the Data Format </h3>\n",
    "\n",
    "<p>One of the important steps in data cleaning is checking and making sure that all data is in the correct format (int, float, text or other).</p>\n",
    "\n",
    "In Pandas, we use:\n",
    "\n",
    "<p><b>.dtype()</b> to check the data type</p>\n",
    "<p><b>.astype()</b> to change the data type</p>"
   ]
  },
  {
   "cell_type": "markdown",
   "id": "22748a8e",
   "metadata": {},
   "source": [
    "<h5>Let's list the data types for each column</h5>\n"
   ]
  },
  {
   "cell_type": "code",
   "execution_count": null,
   "id": "daa5f761",
   "metadata": {},
   "outputs": [],
   "source": [
    "df.dtypes"
   ]
  },
  {
   "cell_type": "markdown",
   "id": "34ed2c39",
   "metadata": {},
   "source": [
    "<p>As we can see above, some columns are not of the correct data type. Numerical variables should have type 'float' or 'int', and variables with strings such as categories should have type 'object'. For example, 'bore' and 'stroke' variables are numerical values that describe the engines, so we should expect them to be of the type 'float' or 'int'; however, they are shown as type 'object'. We have to convert data types into a proper format for each column using the \"astype()\" method.</p> \n"
   ]
  },
  {
   "cell_type": "markdown",
   "id": "3258f1b6",
   "metadata": {},
   "source": [
    "<h5>Convert data types to proper format</h5>\n"
   ]
  },
  {
   "cell_type": "code",
   "execution_count": null,
   "id": "aeceded0",
   "metadata": {},
   "outputs": [],
   "source": [
    "df[[\"bore\", \"stroke\"]] = df[[\"bore\", \"stroke\"]].astype(\"float\")\n",
    "df[[\"normalized-losses\"]] = df[[\"normalized-losses\"]].astype(\"int\")\n",
    "df[[\"price\"]] = df[[\"price\"]].astype(\"float\")\n",
    "df[[\"peak-rpm\"]] = df[[\"peak-rpm\"]].astype(\"float\")"
   ]
  },
  {
   "cell_type": "markdown",
   "id": "b35f46bb",
   "metadata": {},
   "source": [
    "<h5>Let us list the columns after the conversion</h5>\n"
   ]
  },
  {
   "cell_type": "code",
   "execution_count": null,
   "id": "4370017a",
   "metadata": {},
   "outputs": [],
   "source": [
    "df.dtypes"
   ]
  },
  {
   "cell_type": "markdown",
   "id": "e8247705",
   "metadata": {},
   "source": [
    "<b>Wonderful!</b>\n",
    "\n",
    "Now we have finally obtained the cleaned dataset with no missing values with all data in its proper format.\n"
   ]
  },
  {
   "cell_type": "markdown",
   "id": "5df77cae",
   "metadata": {},
   "source": [
    "<h3> 4.2 Standardize the Data </h3>\n",
    "\n",
    "<b>Example</b>\n",
    "\n",
    "<p>Transform mpg to L/100km:</p>\n",
    "<p>In our dataset, the fuel consumption columns \"city-mpg\" and \"highway-mpg\" are represented by mpg (miles per gallon)   unit. Assume we are developing an application in a country that accepts the fuel consumption with L/100km standard.</p>\n",
    "<p>We will need to apply <b>data transformation</b> to transform mpg into L/100km.</p>"
   ]
  },
  {
   "cell_type": "markdown",
   "id": "10c60577",
   "metadata": {},
   "source": [
    "<p>The formula for unit conversion is:<p>\n",
    "L/100km = 235 / mpg\n",
    "<p>We can do many mathematical operations directly in Pandas.</p>"
   ]
  },
  {
   "cell_type": "code",
   "execution_count": null,
   "id": "0ab026d5",
   "metadata": {},
   "outputs": [],
   "source": [
    "df.head()"
   ]
  },
  {
   "cell_type": "code",
   "execution_count": null,
   "id": "3bf21f85",
   "metadata": {},
   "outputs": [],
   "source": [
    "# Convert mpg to L/100km by mathematical operation (235 divided by mpg)\n",
    "df['city-L/100km'] = 235/df[\"city-mpg\"] # This will create a new column \"city-L/100km\"\n",
    "\n",
    "# check your transformed data \n",
    "df.head()"
   ]
  },
  {
   "cell_type": "markdown",
   "id": "cc6caf40",
   "metadata": {},
   "source": [
    "<div class=\"alert alert-danger alertdanger\" style=\"margin-top: 20px\">\n",
    "<h1> Question  #2: </h1>\n",
    "\n",
    "<b>According to the example above, transform mpg to L/100km in the column of \"highway-mpg\" and change the name of column to \"highway-L/100km\".</b>\n",
    "\n",
    "</div>\n"
   ]
  },
  {
   "cell_type": "code",
   "execution_count": null,
   "id": "d6d09cc8",
   "metadata": {},
   "outputs": [],
   "source": [
    "# Write your code below and press Shift+Enter to execute \n",
    "# transform mpg to L/100km by mathematical operation (235 divided by mpg)\n",
    "df[\"highway-mpg\"] = 235/df[\"highway-mpg\"]\n",
    "\n",
    "# rename column name from \"highway-mpg\" to \"highway-L/100km\"\n",
    "df.rename(columns={'\"highway-mpg\"':'highway-L/100km'}, inplace=True)\n",
    "\n",
    "# check your transformed data \n",
    "df.head()"
   ]
  },
  {
   "cell_type": "markdown",
   "id": "c09fefa1",
   "metadata": {},
   "source": [
    "<details><summary>Click here for the solution</summary>\n",
    "\n",
    "```python\n",
    "# transform mpg to L/100km by mathematical operation (235 divided by mpg)\n",
    "df[\"highway-mpg\"] = 235/df[\"highway-mpg\"]\n",
    "\n",
    "# rename column name from \"highway-mpg\" to \"highway-L/100km\"\n",
    "df.rename(columns={'\"highway-mpg\"':'highway-L/100km'}, inplace=True)\n",
    "\n",
    "# check your transformed data \n",
    "df.head()\n",
    "\n",
    "```\n",
    "\n",
    "</details>\n"
   ]
  },
  {
   "cell_type": "markdown",
   "id": "25c9c392",
   "metadata": {},
   "source": [
    "**Conclusion:**"
   ]
  }
 ],
 "metadata": {
  "kernelspec": {
   "display_name": "Python 3 (ipykernel)",
   "language": "python",
   "name": "python3"
  },
  "language_info": {
   "codemirror_mode": {
    "name": "ipython",
    "version": 3
   },
   "file_extension": ".py",
   "mimetype": "text/x-python",
   "name": "python",
   "nbconvert_exporter": "python",
   "pygments_lexer": "ipython3",
   "version": "3.9.13"
  }
 },
 "nbformat": 4,
 "nbformat_minor": 5
}
