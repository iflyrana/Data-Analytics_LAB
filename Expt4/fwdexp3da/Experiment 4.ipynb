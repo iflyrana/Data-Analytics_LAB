{
 "cells": [
  {
   "cell_type": "markdown",
   "id": "678d4ba8",
   "metadata": {},
   "source": [
    "**Roll No.:**\n",
    "\n",
    "**Name:**\n",
    "\n",
    "**Class:**\n",
    "\n",
    "**Batch:**\n",
    "\n",
    "**Date of Experiment:**"
   ]
  },
  {
   "cell_type": "markdown",
   "id": "5aa52848",
   "metadata": {},
   "source": [
    "<h1> Experiment-4: Plot Boxplot, Heatmap, Faceting and Pairplot for the given data using Matplotlib, Seaborn and Pandas. </h1>"
   ]
  },
  {
   "cell_type": "markdown",
   "id": "b5651611",
   "metadata": {},
   "source": [
    "# Seaborn"
   ]
  },
  {
   "cell_type": "markdown",
   "id": "80a3d0f0",
   "metadata": {},
   "source": [
    "Seaborn is an open-source Python library built on top of matplotlib.\n",
    "It is used for data visualization and exploratory data analysis.\n",
    "Seaborn works easily with dataframes and the Pandas library.\n",
    "The graphs created can also be customized easily."
   ]
  },
  {
   "cell_type": "markdown",
   "id": "7efd1876",
   "metadata": {},
   "source": [
    "**Different categories of plot in Seaborn**"
   ]
  },
  {
   "cell_type": "markdown",
   "id": "651e2980",
   "metadata": {},
   "source": [
    "Plots are basically used for visualizing the relationship between variables. Those variables can be either be completely numerical or a category like a group, class or division. Seaborn divides plot into the below categories – "
   ]
  },
  {
   "cell_type": "markdown",
   "id": "8f240402",
   "metadata": {},
   "source": [
    "1. Relational plots: This plot is used to understand the relation between two variables."
   ]
  },
  {
   "cell_type": "markdown",
   "id": "58919953",
   "metadata": {},
   "source": [
    "2. Categorical plots: This plot deals with categorical variables and how they can be visualized."
   ]
  },
  {
   "cell_type": "markdown",
   "id": "9e5258df",
   "metadata": {},
   "source": [
    "3. Distribution plots: This plot is used for examining univariate and bivariate distributions"
   ]
  },
  {
   "cell_type": "markdown",
   "id": "46b1ee59",
   "metadata": {},
   "source": [
    "4. Regression plots: The regression plots in seaborn are primarily intended to add a visual guide that helps to emphasize patterns in a dataset during exploratory data analyses."
   ]
  },
  {
   "cell_type": "markdown",
   "id": "13d8c3a3",
   "metadata": {},
   "source": [
    "5. Matrix plots: A matrix plot is an array of scatterplots."
   ]
  },
  {
   "cell_type": "markdown",
   "id": "61612f36",
   "metadata": {},
   "source": [
    "6. Multi-plot grids: It is an useful approach is to draw multiple instances of the same plot on different subsets of the dataset."
   ]
  },
  {
   "cell_type": "markdown",
   "id": "9ee3d8cc",
   "metadata": {},
   "source": [
    "**Installing Seaborn**"
   ]
  },
  {
   "cell_type": "code",
   "execution_count": null,
   "id": "2de02ddd",
   "metadata": {},
   "outputs": [],
   "source": [
    "import seaborn as sns\n",
    "import pandas\n",
    "import matplotlib.pyplot as plt"
   ]
  },
  {
   "cell_type": "markdown",
   "id": "acb1e4ff",
   "metadata": {},
   "source": [
    "Seaborn has 18 in-built datasets, that can be found using the following command."
   ]
  },
  {
   "cell_type": "code",
   "execution_count": null,
   "id": "0bcc3eba",
   "metadata": {},
   "outputs": [],
   "source": [
    "sns.get_dataset_names()"
   ]
  },
  {
   "cell_type": "markdown",
   "id": "fdadfcac",
   "metadata": {},
   "source": [
    "We will be using the Titanic dataset for this tutorial."
   ]
  },
  {
   "cell_type": "code",
   "execution_count": null,
   "id": "864d75ab",
   "metadata": {},
   "outputs": [],
   "source": [
    "df = sns.load_dataset('titanic')\n",
    "print(df)"
   ]
  },
  {
   "cell_type": "code",
   "execution_count": null,
   "id": "88daaf0a",
   "metadata": {},
   "outputs": [],
   "source": [
    "df.head()"
   ]
  },
  {
   "cell_type": "markdown",
   "id": "53961263",
   "metadata": {},
   "source": [
    "# Different types of graphs"
   ]
  },
  {
   "cell_type": "markdown",
   "id": "37ecfe5a",
   "metadata": {},
   "source": [
    "**1. Count plot**"
   ]
  },
  {
   "cell_type": "markdown",
   "id": "1e473ee8",
   "metadata": {},
   "source": [
    "A count plot is helpful when dealing with categorical values. It is used to plot the frequency of the different categories. The column alive contains categorical data in the titanic data, i.e., no and yes."
   ]
  },
  {
   "cell_type": "code",
   "execution_count": null,
   "id": "87c3a14d",
   "metadata": {},
   "outputs": [],
   "source": [
    "sns.countplot(x='alive',data=df)"
   ]
  },
  {
   "cell_type": "markdown",
   "id": "a4348536",
   "metadata": {},
   "source": [
    "data - The dataframe.\n",
    "\n",
    "x - The name of the column.\n",
    "\n",
    "We can observe from the graph that the number of passengers alive is significantly less than the number of passengers dead."
   ]
  },
  {
   "cell_type": "markdown",
   "id": "94dbb1fb",
   "metadata": {},
   "source": [
    "We can further break up the bars in the count plot based on another categorical variable. The color palette of the plot can also be customized."
   ]
  },
  {
   "cell_type": "code",
   "execution_count": null,
   "id": "cde2b9c7",
   "metadata": {},
   "outputs": [],
   "source": [
    "sns.countplot(x='alive', hue = 'class', data = df, palette = 'Set1')"
   ]
  },
  {
   "cell_type": "markdown",
   "id": "3cddc7b7",
   "metadata": {},
   "source": [
    "**2. Distribution plot**"
   ]
  },
  {
   "cell_type": "markdown",
   "id": "19ad9270",
   "metadata": {},
   "source": [
    "A Distribution plot is used to plot the distribution of continuous data."
   ]
  },
  {
   "cell_type": "code",
   "execution_count": null,
   "id": "cabcf546",
   "metadata": {},
   "outputs": [],
   "source": [
    "sns.displot(x = 'age', bins=5, data =df)"
   ]
  },
  {
   "cell_type": "markdown",
   "id": "dc116c6c",
   "metadata": {},
   "source": [
    "The plot above tells us that most people onboard the titanic were in their mid-twenties."
   ]
  },
  {
   "cell_type": "code",
   "execution_count": null,
   "id": "137ebf22",
   "metadata": {},
   "outputs": [],
   "source": [
    "print(df['survived'])\n",
    "sns.displot(x ='age', bins = 5, hue = df['survived'] , palette = 'Set3', data=df)"
   ]
  },
  {
   "cell_type": "markdown",
   "id": "69385137",
   "metadata": {},
   "source": [
    "You can also pass hue and palette as parameters to customize the graph.\n",
    "\n",
    "Most of the surviving passengers were in their high-twenties."
   ]
  },
  {
   "cell_type": "markdown",
   "id": "6239aa28",
   "metadata": {},
   "source": [
    "**3. Joint plot**"
   ]
  },
  {
   "cell_type": "markdown",
   "id": "6c32765d",
   "metadata": {},
   "source": [
    "A Joint Plot is also used to plot the correlation between data."
   ]
  },
  {
   "cell_type": "code",
   "execution_count": null,
   "id": "ead9c0e0",
   "metadata": {},
   "outputs": [],
   "source": [
    "sns.jointplot(x='fare' , y ='age', data = df)"
   ]
  },
  {
   "cell_type": "markdown",
   "id": "30197da6",
   "metadata": {},
   "source": [
    "**4. Line plot**"
   ]
  },
  {
   "cell_type": "markdown",
   "id": "22403e47",
   "metadata": {},
   "source": [
    "The line plot is one of the most basic plot in seaborn library.  This plot is mainly used to visualize the data in form of some time series, i.e. in continuous manner."
   ]
  },
  {
   "cell_type": "code",
   "execution_count": null,
   "id": "f1904c5c",
   "metadata": {},
   "outputs": [],
   "source": [
    "sns.lineplot(x=\"age\",y=\"who\",data=df)"
   ]
  },
  {
   "cell_type": "markdown",
   "id": "de8df881",
   "metadata": {},
   "source": [
    "**5. Lmplot**"
   ]
  },
  {
   "cell_type": "markdown",
   "id": "8831a15b",
   "metadata": {},
   "source": [
    " The lmplot is another most basic plot. It shows a line representing a linear regression model along with data points on the 2D-space and x and y can be set as the horizontal and vertical labels respectively."
   ]
  },
  {
   "cell_type": "code",
   "execution_count": null,
   "id": "732f925f",
   "metadata": {},
   "outputs": [],
   "source": [
    "sns.lmplot(x=\"pclass\", y=\"fare\", data=df)"
   ]
  },
  {
   "cell_type": "markdown",
   "id": "76a8352a",
   "metadata": {},
   "source": [
    "# Other Graphs"
   ]
  },
  {
   "cell_type": "markdown",
   "id": "791f6c2b",
   "metadata": {},
   "source": [
    "**Boxplot:**"
   ]
  },
  {
   "cell_type": "markdown",
   "id": "4b479d9d",
   "metadata": {},
   "source": [
    "A boxplot is a standardized way of displaying the distribution of data based on a five number summary. It can tell you about your outliers and what their values are. It can also tell you if your data is symmetrical, how tightly your data is grouped, and if and how your data is skewed.\n",
    "For some distributions/datasets, you will find that you need more information than the measures of central tendency (median, mean, and mode)."
   ]
  },
  {
   "cell_type": "markdown",
   "id": "6ec1553f",
   "metadata": {},
   "source": [
    "Boxplots are based on a five number summary (“minimum”, first quartile (Q1), median, third quartile (Q3), and “maximum”)."
   ]
  },
  {
   "cell_type": "markdown",
   "id": "510f8ffd",
   "metadata": {},
   "source": [
    "median (Q2/50th Percentile): the middle value of the dataset."
   ]
  },
  {
   "cell_type": "markdown",
   "id": "9ce56c32",
   "metadata": {},
   "source": [
    "first quartile (Q1/25th Percentile): the middle number between the smallest number (not the “minimum”) and the median of the dataset."
   ]
  },
  {
   "cell_type": "markdown",
   "id": "c1bf5ccc",
   "metadata": {},
   "source": [
    "third quartile (Q3/75th Percentile): the middle value between the median and the highest value (not the “maximum”) of the dataset."
   ]
  },
  {
   "cell_type": "markdown",
   "id": "e3355822",
   "metadata": {},
   "source": [
    "interquartile range (IQR): 25th to the 75th percentile."
   ]
  },
  {
   "cell_type": "markdown",
   "id": "3c3b4903",
   "metadata": {},
   "source": [
    "“maximum”: Q3 + 1.5*IQR"
   ]
  },
  {
   "cell_type": "markdown",
   "id": "08da5755",
   "metadata": {},
   "source": [
    "“minimum”: Q1 -1.5*IQR"
   ]
  },
  {
   "cell_type": "code",
   "execution_count": null,
   "id": "340f9ec0",
   "metadata": {},
   "outputs": [],
   "source": [
    "df = sns.load_dataset('iris')\n",
    "print(df,\"\\n\")\n",
    "print(df.head(),\"\\n\")\n",
    "print(df.tail(),\"\\n\")\n",
    "print(df.isnull().values.any(),\"\\n\")"
   ]
  },
  {
   "cell_type": "code",
   "execution_count": null,
   "id": "a7b462b1",
   "metadata": {},
   "outputs": [],
   "source": [
    "sepal_length = df[\"sepal_length\"]\n",
    "sepal_width  = df['sepal_width']\n",
    "petal_length   = df['petal_length']\n",
    "petal_width  = df['petal_width']"
   ]
  },
  {
   "cell_type": "code",
   "execution_count": null,
   "id": "1d2941ba",
   "metadata": {},
   "outputs": [],
   "source": [
    "fig, ax = plt.subplots()\n",
    "ax.boxplot(sepal_length)\n",
    "plt.show()"
   ]
  },
  {
   "cell_type": "markdown",
   "id": "1da2f527",
   "metadata": {},
   "source": [
    "After creating the plot, we can see some of the summary statistics for our data. The Box Plot shows the median of the dataset (the horizontal line in the middle), as well as the interquartile ranges (the ends of the boxes) and the minimum and maximum values of the chosen dataset feature."
   ]
  },
  {
   "cell_type": "markdown",
   "id": "d922acfb",
   "metadata": {},
   "source": [
    "We can also plot multiple columns on one figure, simply by providing more columns. This again, can be done on either the plt instance, the fig object or the ax object."
   ]
  },
  {
   "cell_type": "code",
   "execution_count": null,
   "id": "4fd65852",
   "metadata": {},
   "outputs": [],
   "source": [
    "columns=[sepal_length,sepal_width,petal_length,petal_width]\n",
    "fig, ax = plt.subplots()\n",
    "ax.boxplot(columns)\n",
    "plt.show()"
   ]
  },
  {
   "cell_type": "markdown",
   "id": "97bdd370",
   "metadata": {},
   "source": [
    "**Let’s take the first box plot i.e, box plot of the figure and understand these statistical things:**"
   ]
  },
  {
   "cell_type": "markdown",
   "id": "19669f10",
   "metadata": {},
   "source": [
    "Bottom horizontal line of blue box plot is minimum value.<br>\n",
    "First horizontal line of rectangle shape of box plot is First quartile or 25%.<br>\n",
    "Second horizontal line of rectangle shape of box plot is Second quartile or 50% or median.<br>\n",
    "Third horizontal line of rectangle shape of box plot is third quartile or 75%.<br>\n",
    "Top horizontal line of rectangle shape of box plot is maximum value.<br>\n",
    "Small oval shape of second box plot is outlier data or erroneous data.<br>"
   ]
  },
  {
   "cell_type": "markdown",
   "id": "b27af49d",
   "metadata": {},
   "source": [
    "**Heatmap:**"
   ]
  },
  {
   "cell_type": "markdown",
   "id": "e15582bd",
   "metadata": {},
   "source": [
    "Heatmap is defined as a graphical representation of data using colors to visualize the value of the matrix. It can be used to visualize confusion matrices, and correlation. In this, to represent more common values or higher activities brighter colors basically reddish colors are used and to represent less common or activity values, darker colors are preferred. Heatmap is also defined by the name of the shading matrix. Heatmaps in Seaborn can be plotted by using the seaborn.heatmap() function."
   ]
  },
  {
   "cell_type": "code",
   "execution_count": null,
   "id": "4ae4aa6a",
   "metadata": {},
   "outputs": [],
   "source": [
    "corr = df.corr()\n",
    "sns.heatmap(corr)"
   ]
  },
  {
   "cell_type": "markdown",
   "id": "6f7822db",
   "metadata": {},
   "source": [
    "We can customize the color scheme, the minimum/maximum values, and annotations."
   ]
  },
  {
   "cell_type": "code",
   "execution_count": null,
   "id": "8ab07334",
   "metadata": {},
   "outputs": [],
   "source": [
    "sns.heatmap(corr, cmap='Reds',annot = True)"
   ]
  },
  {
   "cell_type": "markdown",
   "id": "12a03c03",
   "metadata": {},
   "source": [
    "**Faceting**"
   ]
  },
  {
   "cell_type": "markdown",
   "id": "a33ba4f3",
   "metadata": {},
   "source": [
    "Facet plots, where one subsets the data based on a categorical variable and makes a series of similar plots with the same scale. \n",
    "\n",
    "We can make facet plots in Python in multiple ways. In this post, we will see an example of making simple facet plots using Seaborn’s Catplot() method. It is mostly used to visualize when there is a numerical variable and a corresponding categorical variable. "
   ]
  },
  {
   "cell_type": "code",
   "execution_count": null,
   "id": "d2f010b6",
   "metadata": {},
   "outputs": [],
   "source": [
    "# load data\n",
    "irisdf = sns.load_dataset('iris')\n",
    "  \n",
    "# create catplot facetplot object\n",
    "seaborn_facetgrid_object = sns.catplot(\n",
    "    x='species',\n",
    "    y='sepal_length',\n",
    "    data=irisdf\n",
    ")\n",
    "# show plot\n",
    "seaborn_facetgrid_object"
   ]
  },
  {
   "cell_type": "markdown",
   "id": "af2d1c5a",
   "metadata": {},
   "source": [
    "**Pairplot**"
   ]
  },
  {
   "cell_type": "markdown",
   "id": "bb5b2cf6",
   "metadata": {},
   "source": [
    "A pairplot is a pairwise relationships in a dataset. The pairplot function creates a grid of Axes such that each variable in data will be shared in the y-axis across a single row and in the x-axis across a single column. "
   ]
  },
  {
   "cell_type": "markdown",
   "id": "5cc22215",
   "metadata": {},
   "source": [
    "The data set has 4 measurements: sepal width, sepal length, petal_length and petal_width. The data contains measurements of different flowers."
   ]
  },
  {
   "cell_type": "code",
   "execution_count": null,
   "id": "f3b0c9a0",
   "metadata": {},
   "outputs": [],
   "source": [
    "sns.set(style=\"ticks\", color_codes=True)\n",
    "g = sns.pairplot(irisdf)\n",
    "plt.show()"
   ]
  },
  {
   "cell_type": "markdown",
   "id": "bbd2b158",
   "metadata": {},
   "source": [
    "If you prefer a smaller plot, use less variables. For instance, if you only want sepal_width and sepal_length, tha would create a 2x2 plot."
   ]
  },
  {
   "cell_type": "code",
   "execution_count": null,
   "id": "e4be8593",
   "metadata": {},
   "outputs": [],
   "source": [
    "g = sns.pairplot(irisdf, vars=[\"sepal_width\", \"sepal_length\"])"
   ]
  },
  {
   "cell_type": "markdown",
   "id": "d3f49304",
   "metadata": {},
   "source": [
    "**Conclusion:**"
   ]
  }
 ],
 "metadata": {
  "kernelspec": {
   "display_name": "Python 3 (ipykernel)",
   "language": "python",
   "name": "python3"
  },
  "language_info": {
   "codemirror_mode": {
    "name": "ipython",
    "version": 3
   },
   "file_extension": ".py",
   "mimetype": "text/x-python",
   "name": "python",
   "nbconvert_exporter": "python",
   "pygments_lexer": "ipython3",
   "version": "3.9.13"
  }
 },
 "nbformat": 4,
 "nbformat_minor": 5
}
