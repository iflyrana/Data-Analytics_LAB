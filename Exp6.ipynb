{
 "cells": [
  {
   "attachments": {},
   "cell_type": "markdown",
   "id": "0a5c9771",
   "metadata": {},
   "source": [
    "**Roll No.:**\n",
    "\n",
    "**Name:**\n",
    "\n",
    "**Class:**\n",
    "\n",
    "**Batch:**\n",
    "\n",
    "**Date of Experiment:**"
   ]
  },
  {
   "attachments": {},
   "cell_type": "markdown",
   "id": "5c86495f",
   "metadata": {},
   "source": [
    "<h1> Exp 6: Apply data pre-processing tasks: to normalize the data, to group the data\n",
    "using data binning and to turn categorical values into numeric values for a given dataset. Demonstrate the same using Pandas and NumPy in Python.</h1>\n",
    "\n",
    "<h2> Data Pre-processing </h2>\n",
    "\n",
    "> - The process of converting or mapping data from the initial \"raw\" form into another format, to make it ready for further analysis.\n",
    "> - It is also known as Data Cleaning and Data Wrangling.\n",
    "\n",
    "<h2> Objectives: </h2>\n",
    "\n",
    "\n",
    "> 1. Normalize the Data (centering/scaling)\n",
    "> 2. Data Binning\n",
    "> 3. Turn Categorical values into Numeric values"
   ]
  },
  {
   "attachments": {},
   "cell_type": "markdown",
   "id": "ed66d3db",
   "metadata": {},
   "source": [
    "<h2> Important Shortcut Keys </h2>\n",
    "\n",
    "> - A -> To **create** cell **above**\n",
    "> - B -> To **create** Cell **below**\n",
    "> - D D -> For **deleting** the cell\n",
    "> - M -> To **markdown** the Cell\n",
    "> - Y -> For **code** the cell\n",
    "> - Z -> To **undo** the deleted cell"
   ]
  },
  {
   "attachments": {},
   "cell_type": "markdown",
   "id": "2f4cdec9",
   "metadata": {},
   "source": [
    "<h2> 1. Reading the dataset modified by Exp-5 (csv output of Exp-5) </h2>"
   ]
  },
  {
   "attachments": {},
   "cell_type": "markdown",
   "id": "8c240e66",
   "metadata": {},
   "source": [
    "<h3> 1.1 Import Libraries </h3>"
   ]
  },
  {
   "cell_type": "code",
   "execution_count": null,
   "id": "1ff0f83b",
   "metadata": {},
   "outputs": [],
   "source": [
    "# Import the libraries pandas and matplotlib\n",
    "import pandas as pd\n",
    "import numpy as np\n",
    "import matplotlib.pylab as plt"
   ]
  },
  {
   "attachments": {},
   "cell_type": "markdown",
   "id": "2fa12867",
   "metadata": {},
   "source": [
    "<h3> 1.2 Import Data </h3> "
   ]
  },
  {
   "attachments": {},
   "cell_type": "markdown",
   "id": "aecaa44c",
   "metadata": {},
   "source": [
    "First, we assign the filepath of the dataset modified in Exp5 to variable \"filename\".\n",
    "\n",
    "Copy the filepath of csv and paste it inside single quote."
   ]
  },
  {
   "cell_type": "code",
   "execution_count": null,
   "id": "150af8c8",
   "metadata": {},
   "outputs": [],
   "source": [
    "filename = 'expt5output'"
   ]
  },
  {
   "cell_type": "code",
   "execution_count": null,
   "id": "3bdb198c",
   "metadata": {},
   "outputs": [],
   "source": [
    "df = pd.read_csv(filename)"
   ]
  },
  {
   "attachments": {},
   "cell_type": "markdown",
   "id": "7d2021f4",
   "metadata": {},
   "source": [
    "Use the method <b>head()</b> to display the first five rows of the dataframe."
   ]
  },
  {
   "cell_type": "code",
   "execution_count": null,
   "id": "c7661aa1",
   "metadata": {},
   "outputs": [],
   "source": [
    "df.columns.values"
   ]
  },
  {
   "cell_type": "code",
   "execution_count": null,
   "id": "e9ec3232",
   "metadata": {},
   "outputs": [],
   "source": [
    "# To see what the data set looks like, we'll use the head() method.\n",
    "df.head()"
   ]
  },
  {
   "attachments": {},
   "cell_type": "markdown",
   "id": "a41ed880",
   "metadata": {},
   "source": [
    "<h2> 2. Data Normalization in Python </h2>\n",
    "\n",
    "<p>Normalization is the process of transforming values of several variables into a similar range. Typical normalizations include scaling the variable so the variable average is 0, scaling the variable so the variance is 1, or scaling the variable so the variable values range from 0 to 1.\n",
    "</p>\n",
    "\n",
    "<center>\n",
    "    <img src = \"fig5aa.png\">\n",
    "</center>\n",
    "\n",
    "<b>Example</b>\n",
    "\n",
    "<p>To demonstrate normalization, let's say we want to scale the columns \"length\", \"width\" and \"height\".</p>\n",
    "<p><b>Target:</b> would like to normalize those variables so their value ranges from 0 to 1</p>\n",
    "<p><b>Approach:</b> replace original value by (original value)/(maximum value)</p>\n",
    "\n",
    "<b> Few Methods of normalizing data </b> \n",
    "\n",
    "1. **Simple feature scaling:** $x_{new} = \\frac{x_{old}}{x_{max}}$\n",
    "\n",
    "2. **Min-Max:** $x_{new} = \\frac{x_{old} - x_{min}}{x_{max} - x_{min}}$\n",
    "\n",
    "3. **Z-score:** $x_{new} = \\frac{x_{old} - \\mu}{\\sigma}$ where $\\mu$ is the mean and $\\sigma$ is the standard deviation of the feature."
   ]
  },
  {
   "attachments": {},
   "cell_type": "markdown",
   "id": "4d8fbc31",
   "metadata": {},
   "source": [
    "<h3> 2.1 Simple feature scaling"
   ]
  },
  {
   "cell_type": "code",
   "execution_count": null,
   "id": "41999291",
   "metadata": {},
   "outputs": [],
   "source": [
    "# replace (original value) by (original value)/(maximum value)\n",
    "df['length'] = df['length']/df['length'].max()\n",
    "df['width'] = df['width']/df['width'].max()"
   ]
  },
  {
   "attachments": {},
   "cell_type": "markdown",
   "id": "99dfca1a",
   "metadata": {},
   "source": [
    "<div class=\"alert alert-danger alertdanger\" style=\"margin-top: 20px\">\n",
    "<h1> Question #1: </h1>\n",
    "\n",
    "<b>According to the example above, normalize the column \"height\".</b>\n",
    "\n",
    "</div>\n"
   ]
  },
  {
   "cell_type": "code",
   "execution_count": null,
   "id": "ca77964f",
   "metadata": {},
   "outputs": [],
   "source": []
  },
  {
   "attachments": {},
   "cell_type": "markdown",
   "id": "1adae197",
   "metadata": {},
   "source": [
    "<details><summary>Click here for the solution</summary>\n",
    "\n",
    "```python\n",
    "df['height'] = df['height']/df['height'].max() \n",
    "\n",
    "# show the scaled columns\n",
    "df[[\"length\",\"width\",\"height\"]].head()\n",
    "\n",
    "\n",
    "```\n",
    "\n",
    "</details>\n"
   ]
  },
  {
   "attachments": {},
   "cell_type": "markdown",
   "id": "a8a388aa",
   "metadata": {},
   "source": [
    "Here we can see we've normalized \"length\", \"width\" and \"height\" in the range of \\[0,1].\n"
   ]
  },
  {
   "attachments": {},
   "cell_type": "markdown",
   "id": "8351cae7",
   "metadata": {},
   "source": [
    "<h2> 3. Data Binning</h2>\n",
    "\n",
    "- **Binning:** Grouping of **values** into **bins** for grouped analysis.\n",
    "    - Example: we can bin \"age\" into [0, 5], [6, 10], [11, 15] and so on.\n",
    "\n",
    "\n",
    "- Converts **numeric** into **categorical** variables.\n",
    "\n",
    "\n",
    "- Group a **set of numerical values** into  a **set of bins**.\n",
    "\n",
    "<b>Example: </b>\n",
    "\n",
    "<p>In our dataset, \"horsepower\" is a real valued variable ranging from 48 to 288 and it has 59 unique values. What if we only care about the price difference between cars with high horsepower, medium horsepower, and little horsepower (3 types)? Can we rearrange them into three ‘bins' to simplify analysis? </p>\n",
    "\n",
    "<p>We will use the pandas method 'cut' to segment the 'horsepower' column into 3 bins.</p>"
   ]
  },
  {
   "attachments": {},
   "cell_type": "markdown",
   "id": "5fcd552e",
   "metadata": {},
   "source": [
    "Convert data to correct format:\n"
   ]
  },
  {
   "cell_type": "code",
   "execution_count": null,
   "id": "3695ea13",
   "metadata": {},
   "outputs": [],
   "source": [
    "df[\"horsepower\"]=df[\"horsepower\"].astype(int, copy=True)"
   ]
  },
  {
   "attachments": {},
   "cell_type": "markdown",
   "id": "ca6751c6",
   "metadata": {},
   "source": [
    "Let's plot the histogram of horsepower to see what the distribution of horsepower looks like.\n"
   ]
  },
  {
   "cell_type": "code",
   "execution_count": null,
   "id": "486fb06c",
   "metadata": {},
   "outputs": [],
   "source": [
    "%matplotlib inline\n",
    "import matplotlib as plt\n",
    "from matplotlib import pyplot\n",
    "plt.pyplot.hist(df[\"horsepower\"])\n",
    "\n",
    "# set x/y labels and plot title\n",
    "plt.pyplot.xlabel(\"horsepower\")\n",
    "plt.pyplot.ylabel(\"count\")\n",
    "plt.pyplot.title(\"horsepower bins\")"
   ]
  },
  {
   "attachments": {},
   "cell_type": "markdown",
   "id": "f4950d46",
   "metadata": {},
   "source": [
    "<p>We would like 3 bins of equal size bandwidth so we use numpy's <code>linspace(start_value, end_value, numbers_generated</code> function.</p>\n",
    "<p>Since we want to include the minimum value of horsepower, we want to set start_value = min(df[\"horsepower\"]).</p>\n",
    "<p>Since we want to include the maximum value of horsepower, we want to set end_value = max(df[\"horsepower\"]).</p>\n",
    "<p>Since we are building 3 bins of equal length, there should be 4 dividers, so numbers_generated = 4.</p>\n"
   ]
  },
  {
   "attachments": {},
   "cell_type": "markdown",
   "id": "c08080d0",
   "metadata": {},
   "source": [
    "We build a bin array with a minimum value to a maximum value by using the bandwidth calculated above. The values will determine when one bin ends and another begins.\n"
   ]
  },
  {
   "cell_type": "code",
   "execution_count": null,
   "id": "a554b79e",
   "metadata": {},
   "outputs": [],
   "source": [
    "bins = np.linspace(min(df[\"horsepower\"]), max(df[\"horsepower\"]), 4)\n",
    "bins"
   ]
  },
  {
   "attachments": {},
   "cell_type": "markdown",
   "id": "cebc3a07",
   "metadata": {},
   "source": [
    "We set group  names:\n"
   ]
  },
  {
   "cell_type": "code",
   "execution_count": null,
   "id": "5a04e1d8",
   "metadata": {},
   "outputs": [],
   "source": [
    "group_names = ['Low', 'Medium', 'High']"
   ]
  },
  {
   "attachments": {},
   "cell_type": "markdown",
   "id": "e2d24cf5",
   "metadata": {},
   "source": [
    "We apply the function \"cut\" to determine what each value of `df['horsepower']` belongs to.\n"
   ]
  },
  {
   "cell_type": "code",
   "execution_count": null,
   "id": "ec4675ef",
   "metadata": {},
   "outputs": [],
   "source": [
    "df['horsepower-binned'] = pd.cut(df['horsepower'], bins, labels=group_names, include_lowest=True )\n",
    "df[['horsepower','horsepower-binned']].head(20)"
   ]
  },
  {
   "attachments": {},
   "cell_type": "markdown",
   "id": "0443bf34",
   "metadata": {},
   "source": [
    "Let's see the number of vehicles in each bin:\n"
   ]
  },
  {
   "cell_type": "code",
   "execution_count": null,
   "id": "4d51a5bf",
   "metadata": {},
   "outputs": [],
   "source": [
    "df[\"horsepower-binned\"].value_counts()"
   ]
  },
  {
   "attachments": {},
   "cell_type": "markdown",
   "id": "ddecdf4d",
   "metadata": {},
   "source": [
    "Let's plot the distribution of each bin:\n"
   ]
  },
  {
   "cell_type": "code",
   "execution_count": null,
   "id": "dfe95e1e",
   "metadata": {},
   "outputs": [],
   "source": [
    "%matplotlib inline\n",
    "import matplotlib as plt\n",
    "from matplotlib import pyplot\n",
    "pyplot.bar(group_names, df[\"horsepower-binned\"].value_counts())\n",
    "\n",
    "# set x/y labels and plot title\n",
    "plt.pyplot.xlabel(\"horsepower\")\n",
    "plt.pyplot.ylabel(\"count\")\n",
    "plt.pyplot.title(\"horsepower bins\")"
   ]
  },
  {
   "attachments": {},
   "cell_type": "markdown",
   "id": "9e3ec1ec",
   "metadata": {},
   "source": [
    "<p>\n",
    "    Look at the dataframe above carefully. You will find that the last column provides the bins for \"horsepower\" based on 3 categories (\"Low\", \"Medium\" and \"High\"). \n",
    "</p>\n",
    "<p>\n",
    "    We successfully narrowed down the intervals from 59 to 3!\n",
    "</p>\n"
   ]
  },
  {
   "attachments": {},
   "cell_type": "markdown",
   "id": "26c8b989",
   "metadata": {},
   "source": [
    "<h3>Bins Visualization</h3>\n",
    "Normally, a histogram is used to visualize the distribution of bins we created above. \n"
   ]
  },
  {
   "cell_type": "code",
   "execution_count": null,
   "id": "c2c86e42",
   "metadata": {},
   "outputs": [],
   "source": [
    "%matplotlib inline\n",
    "import matplotlib as plt\n",
    "from matplotlib import pyplot\n",
    "\n",
    "\n",
    "# draw historgram of attribute \"horsepower\" with bins = 3\n",
    "plt.pyplot.hist(df[\"horsepower\"], bins = 3)\n",
    "\n",
    "# set x/y labels and plot title\n",
    "plt.pyplot.xlabel(\"horsepower\")\n",
    "plt.pyplot.ylabel(\"count\")\n",
    "plt.pyplot.title(\"horsepower bins\")"
   ]
  },
  {
   "attachments": {},
   "cell_type": "markdown",
   "id": "934572a9",
   "metadata": {},
   "source": [
    "The plot above shows the binning result for the attribute \"horsepower\".\n"
   ]
  },
  {
   "attachments": {},
   "cell_type": "markdown",
   "id": "e8237d40",
   "metadata": {},
   "source": [
    "<h2> 3. Turning Categorical values into Numeric values</h2>\n",
    "\n",
    "<b>What is an indicator variable?</b>\n",
    "<p>\n",
    "    An indicator variable (or dummy variable) is a numerical variable used to label categories. They are called 'dummies' because the numbers themselves don't have inherent meaning. \n",
    "</p>\n",
    "\n",
    "<b>Why we use indicator variables?</b>\n",
    "\n",
    "<p>\n",
    "    We use indicator variables so we can use categorical variables for regression analysis in the later modules.\n",
    "</p>\n",
    "<b>Example</b>\n",
    "<p>\n",
    "    We see the column \"fuel-type\" has two unique values: \"gas\" or \"diesel\". Regression doesn't understand words, only numbers. To use this attribute in regression analysis, we convert \"fuel-type\" to indicator variables.\n",
    "</p>\n",
    "\n",
    "<p>\n",
    "    We will use pandas' method 'get_dummies' to assign numerical values to different categories of fuel type. \n",
    "</p>\n"
   ]
  },
  {
   "cell_type": "code",
   "execution_count": null,
   "id": "994c8d49",
   "metadata": {},
   "outputs": [],
   "source": [
    "df.columns"
   ]
  },
  {
   "attachments": {},
   "cell_type": "markdown",
   "id": "0f893956",
   "metadata": {},
   "source": [
    "Get the indicator variables and assign it to data frame \"dummy_variable\\_1\":\n"
   ]
  },
  {
   "cell_type": "code",
   "execution_count": null,
   "id": "e79b0b35",
   "metadata": {},
   "outputs": [],
   "source": [
    "dummy_variable_1 = pd.get_dummies(df[\"fuel-type\"])\n",
    "dummy_variable_1.head()"
   ]
  },
  {
   "attachments": {},
   "cell_type": "markdown",
   "id": "a8bdb278",
   "metadata": {},
   "source": [
    "Change the column names for clarity:\n"
   ]
  },
  {
   "cell_type": "code",
   "execution_count": null,
   "id": "a1e860e6",
   "metadata": {},
   "outputs": [],
   "source": [
    "dummy_variable_1.rename(columns={'gas':'fuel-type-gas', 'diesel':'fuel-type-diesel'}, inplace=True)\n",
    "dummy_variable_1.head()"
   ]
  },
  {
   "attachments": {},
   "cell_type": "markdown",
   "id": "c19139d8",
   "metadata": {},
   "source": [
    "In the dataframe, column 'fuel-type' has values for 'gas' and 'diesel' as 0s and 1s now.\n"
   ]
  },
  {
   "cell_type": "code",
   "execution_count": null,
   "id": "0b0fda40",
   "metadata": {},
   "outputs": [],
   "source": [
    "# merge data frame \"df\" and \"dummy_variable_1\" \n",
    "df = pd.concat([df, dummy_variable_1], axis=1)\n",
    "\n",
    "# drop original column \"fuel-type\" from \"df\"\n",
    "df.drop(\"fuel-type\", axis = 1, inplace=True)"
   ]
  },
  {
   "cell_type": "code",
   "execution_count": null,
   "id": "9899f3db",
   "metadata": {},
   "outputs": [],
   "source": [
    "df.head()"
   ]
  },
  {
   "attachments": {},
   "cell_type": "markdown",
   "id": "8b18a576",
   "metadata": {},
   "source": [
    "The last two columns are now the indicator variable representation of the fuel-type variable. They're all 0s and 1s now.\n"
   ]
  },
  {
   "attachments": {},
   "cell_type": "markdown",
   "id": "b1edb78b",
   "metadata": {},
   "source": [
    "<div class=\"alert alert-danger alertdanger\" style=\"margin-top: 20px\">\n",
    "<h1> Question  #2: </h1>\n",
    "\n",
    "<b>Similar to before, create an indicator variable for the column \"aspiration\"</b>\n",
    "\n",
    "</div>\n"
   ]
  },
  {
   "cell_type": "code",
   "execution_count": null,
   "id": "c34de5cf",
   "metadata": {},
   "outputs": [],
   "source": []
  },
  {
   "attachments": {},
   "cell_type": "markdown",
   "id": "6b2896a6",
   "metadata": {},
   "source": [
    "<details><summary>Click here for the solution</summary>\n",
    "\n",
    "```python\n",
    "# get indicator variables of aspiration and assign it to data frame \"dummy_variable_2\"\n",
    "dummy_variable_2 = pd.get_dummies(df['aspiration'])\n",
    "\n",
    "# change column names for clarity\n",
    "dummy_variable_2.rename(columns={'std':'aspiration-std', 'turbo': 'aspiration-turbo'}, inplace=True)\n",
    "\n",
    "# show first 5 instances of data frame \"dummy_variable_1\"\n",
    "dummy_variable_2.head()\n",
    "\n",
    "\n",
    "```\n",
    "\n",
    "</details>\n"
   ]
  },
  {
   "attachments": {},
   "cell_type": "markdown",
   "id": "69cded08",
   "metadata": {},
   "source": [
    " <div class=\"alert alert-danger alertdanger\" style=\"margin-top: 20px\">\n",
    "<h1> Question  #3: </h1>\n",
    "\n",
    "<b>Merge the new dataframe to the original dataframe, then drop the column 'aspiration'.</b>\n",
    "\n",
    "</div>\n"
   ]
  },
  {
   "cell_type": "code",
   "execution_count": null,
   "id": "88567f5c",
   "metadata": {},
   "outputs": [],
   "source": []
  },
  {
   "attachments": {},
   "cell_type": "markdown",
   "id": "431c3dfc",
   "metadata": {},
   "source": [
    "<details><summary>Click here for the solution</summary>\n",
    "\n",
    "```python\n",
    "# merge the new dataframe to the original datafram\n",
    "df = pd.concat([df, dummy_variable_2], axis=1)\n",
    "\n",
    "# drop original column \"aspiration\" from \"df\"\n",
    "df.drop('aspiration', axis = 1, inplace=True)\n",
    "\n",
    "\n",
    "```\n",
    "\n",
    "</details>\n"
   ]
  },
  {
   "attachments": {},
   "cell_type": "markdown",
   "id": "331b0961",
   "metadata": {},
   "source": [
    "Save the new csv:\n"
   ]
  },
  {
   "cell_type": "code",
   "execution_count": null,
   "id": "3c852c94",
   "metadata": {},
   "outputs": [],
   "source": [
    "df.to_csv('expt6output', index = None)"
   ]
  },
  {
   "attachments": {},
   "cell_type": "markdown",
   "id": "35f6aebe",
   "metadata": {},
   "source": [
    "**Conclusion:**"
   ]
  }
 ],
 "metadata": {
  "kernelspec": {
   "display_name": "Python 3 (ipykernel)",
   "language": "python",
   "name": "python3"
  },
  "language_info": {
   "codemirror_mode": {
    "name": "ipython",
    "version": 3
   },
   "file_extension": ".py",
   "mimetype": "text/x-python",
   "name": "python",
   "nbconvert_exporter": "python",
   "pygments_lexer": "ipython3",
   "version": "3.9.13"
  }
 },
 "nbformat": 4,
 "nbformat_minor": 5
}
